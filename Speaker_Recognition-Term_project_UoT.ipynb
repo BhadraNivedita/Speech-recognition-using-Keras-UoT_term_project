{
 "cells": [
  {
   "cell_type": "code",
   "execution_count": 1,
   "metadata": {},
   "outputs": [],
   "source": [
    "##loading the data set\n",
    "# Defines the names of the CSV files\n",
    "TRAIN_CSV_FILE = \"train.csv\"\n",
    "TEST_CSV_FILE = \"test.csv\"\n",
    "MORE_TRAIN_CSV_FILE = \"more_train.csv\"\n",
    "MORE_TEST_CSV_FILE = \"more_test.csv\"\n",
    "\n"
   ]
  },
  {
   "cell_type": "code",
   "execution_count": 3,
   "metadata": {},
   "outputs": [],
   "source": [
    "# If true, the WAV files will be read and their features will be saved in the CSV files\n",
    "# As this is the most time consuming task, only enable it if you don't have the CSV files yet\n",
    "CREATE_CSV_FILES = True"
   ]
  },
  {
   "cell_type": "code",
   "execution_count": 5,
   "metadata": {},
   "outputs": [
    {
     "name": "stdout",
     "output_type": "stream",
     "text": [
      "The features of the files in the folder ../data/recordings/train will be saved to train.csv\n",
      "CSV Header:  ['filename', 'chroma_stft', 'rmse', 'spectral_centroid', 'spectral_bandwidth', 'rolloff', 'zero_crossing_rate', 'mfcc1', 'mfcc2', 'mfcc3', 'mfcc4', 'mfcc5', 'mfcc6', 'mfcc7', 'mfcc8', 'mfcc9', 'mfcc10', 'mfcc11', 'mfcc12', 'mfcc13', 'mfcc14', 'mfcc15', 'mfcc16', 'mfcc17', 'mfcc18', 'mfcc19', 'mfcc20', 'label']\n",
      "End of extractWavFeatures\n",
      "The features of the files in the folder ../data/recordings/test will be saved to test.csv\n",
      "CSV Header:  ['filename', 'chroma_stft', 'rmse', 'spectral_centroid', 'spectral_bandwidth', 'rolloff', 'zero_crossing_rate', 'mfcc1', 'mfcc2', 'mfcc3', 'mfcc4', 'mfcc5', 'mfcc6', 'mfcc7', 'mfcc8', 'mfcc9', 'mfcc10', 'mfcc11', 'mfcc12', 'mfcc13', 'mfcc14', 'mfcc15', 'mfcc16', 'mfcc17', 'mfcc18', 'mfcc19', 'mfcc20', 'label']\n",
      "End of extractWavFeatures\n",
      "The features of the files in the folder ../data/recordings/moreSpeakersTrain will be saved to more_train.csv\n",
      "CSV Header:  ['filename', 'chroma_stft', 'rmse', 'spectral_centroid', 'spectral_bandwidth', 'rolloff', 'zero_crossing_rate', 'mfcc1', 'mfcc2', 'mfcc3', 'mfcc4', 'mfcc5', 'mfcc6', 'mfcc7', 'mfcc8', 'mfcc9', 'mfcc10', 'mfcc11', 'mfcc12', 'mfcc13', 'mfcc14', 'mfcc15', 'mfcc16', 'mfcc17', 'mfcc18', 'mfcc19', 'mfcc20', 'label']\n",
      "End of extractWavFeatures\n",
      "The features of the files in the folder ../data/recordings/moreSpeakersTest will be saved to more_test.csv\n",
      "CSV Header:  ['filename', 'chroma_stft', 'rmse', 'spectral_centroid', 'spectral_bandwidth', 'rolloff', 'zero_crossing_rate', 'mfcc1', 'mfcc2', 'mfcc3', 'mfcc4', 'mfcc5', 'mfcc6', 'mfcc7', 'mfcc8', 'mfcc9', 'mfcc10', 'mfcc11', 'mfcc12', 'mfcc13', 'mfcc14', 'mfcc15', 'mfcc16', 'mfcc17', 'mfcc18', 'mfcc19', 'mfcc20', 'label']\n",
      "End of extractWavFeatures\n",
      "CSV files are created\n"
     ]
    }
   ],
   "source": [
    "import matplotlib.pyplot as plt\n",
    "import numpy as np\n",
    "from matplotlib import cm\n",
    "import librosa\n",
    "import csv\n",
    "import os\n",
    "def extractWavFeatures(soundFilesFolder, csvFileName):\n",
    "    print(\"The features of the files in the folder \"+soundFilesFolder+\" will be saved to \"+csvFileName)\n",
    "    header = 'filename chroma_stft rmse spectral_centroid spectral_bandwidth rolloff zero_crossing_rate'\n",
    "    for i in range(1, 21):\n",
    "        header += f' mfcc{i}'\n",
    "    header += ' label'\n",
    "    header = header.split()\n",
    "    print('CSV Header: ', header)\n",
    "    file = open(csvFileName, 'w', newline='')\n",
    "    #with file:\n",
    "    writer = csv.writer(file)\n",
    "    writer.writerow(header)\n",
    "    genres = '1 2 3 4 5 6 7 8 9 0'.split()\n",
    "    for filename in os.listdir(soundFilesFolder):\n",
    "        number = f'{soundFilesFolder}/{filename}'\n",
    "        y, sr = librosa.load(number, mono=True, duration=30)\n",
    "        # remove leading and trailing silence\n",
    "        y, index = librosa.effects.trim(y)\n",
    "        chroma_stft = librosa.feature.chroma_stft(y=y, sr=sr)\n",
    "        rmse = librosa.feature.rms(y=y)\n",
    "        spec_cent = librosa.feature.spectral_centroid(y=y, sr=sr)\n",
    "        spec_bw = librosa.feature.spectral_bandwidth(y=y, sr=sr)\n",
    "        rolloff = librosa.feature.spectral_rolloff(y=y, sr=sr)\n",
    "        zcr = librosa.feature.zero_crossing_rate(y)\n",
    "        mfcc = librosa.feature.mfcc(y=y, sr=sr)\n",
    "        to_append = f'{filename} {np.mean(chroma_stft)} {np.mean(rmse)} {np.mean(spec_cent)} {np.mean(spec_bw)} {np.mean(rolloff)} {np.mean(zcr)}'\n",
    "        for e in mfcc:\n",
    "            to_append += f' {np.mean(e)}'\n",
    "        writer.writerow(to_append.split())\n",
    "    file.close()\n",
    "    print(\"End of extractWavFeatures\")\n",
    "\n",
    "if (CREATE_CSV_FILES == True):\n",
    "    extractWavFeatures(\"../data/recordings/train\", TRAIN_CSV_FILE)\n",
    "    extractWavFeatures(\"../data/recordings/test\", TEST_CSV_FILE)\n",
    "    extractWavFeatures(\"../data/recordings/moreSpeakersTrain\", MORE_TRAIN_CSV_FILE)\n",
    "    extractWavFeatures(\"../data/recordings/moreSpeakersTest\", MORE_TEST_CSV_FILE)\n",
    "    print(\"CSV files are created\")\n",
    "else:\n",
    "    print(\"CSV files creation is skipped\")"
   ]
  },
  {
   "cell_type": "code",
   "execution_count": 6,
   "metadata": {},
   "outputs": [
    {
     "name": "stdout",
     "output_type": "stream",
     "text": [
      "train.csv will be preprocessed\n",
      "Preprocessing is finished\n",
      "       rmse  spectral_centroid  spectral_bandwidth      rolloff  \\\n",
      "0  0.056216        1032.217877          913.675692  1901.381836   \n",
      "1  0.047560         957.186513          985.567759  1946.270282   \n",
      "2  0.077792         715.153782          829.027413  1364.168294   \n",
      "3  0.004177        1049.574804         1001.825375  2241.247559   \n",
      "4  0.048911        1031.357816          913.597711  1952.941895   \n",
      "\n",
      "   zero_crossing_rate       mfcc1       mfcc2      mfcc3      mfcc4  \\\n",
      "0            0.058105 -325.864807  231.115234 -74.036324  12.005396   \n",
      "1            0.049241 -345.559723  231.203629 -59.573689  21.147900   \n",
      "2            0.035048 -357.849945  203.802567  -5.626777  29.251755   \n",
      "3            0.043647 -584.713562  214.255554 -70.903893  32.681511   \n",
      "4            0.065945 -344.270386  234.691711 -77.355721  12.481426   \n",
      "\n",
      "       mfcc5  ...     mfcc12     mfcc13    mfcc14     mfcc15     mfcc16  \\\n",
      "0  13.277349  ... -17.249941  12.347114 -7.228780 -13.675868   7.874032   \n",
      "1  16.854868  ... -19.387911  10.420681 -7.380883 -11.180894   7.690809   \n",
      "2   6.314121  ... -20.977453   4.320470 -9.753127 -16.563396  -1.830983   \n",
      "3  45.772572  ... -25.125807  11.178600 -3.849633  -8.611123  14.851129   \n",
      "4  15.074877  ... -19.703640  19.272955 -3.563453 -13.745307  10.856112   \n",
      "\n",
      "      mfcc17     mfcc18    mfcc19     mfcc20  number  \n",
      "0  -8.266954  -4.084768  9.571918 -10.471154       1  \n",
      "1 -12.756428  -8.090135  9.355206  -7.859077       1  \n",
      "2 -18.065268 -14.932977  1.703981 -11.007198       0  \n",
      "3  -8.055293 -14.075670 -0.494987 -17.043818       2  \n",
      "4  -7.585665  -7.847510  8.420013  -7.589060       1  \n",
      "\n",
      "[5 rows x 26 columns]\n",
      "test.csv will be preprocessed\n",
      "Preprocessing is finished\n",
      "       rmse  spectral_centroid  spectral_bandwidth      rolloff  \\\n",
      "0  0.049637         987.838625          869.478938  1749.213867   \n",
      "1  0.007149        1302.588207         1008.264427  2307.417297   \n",
      "2  0.037639        1207.117386         1098.733076  2319.529724   \n",
      "3  0.032911        1352.827288         1135.444002  2775.629883   \n",
      "4  0.006945        1305.617438         1040.166164  2552.663352   \n",
      "\n",
      "   zero_crossing_rate       mfcc1       mfcc2      mfcc3      mfcc4  \\\n",
      "0            0.059896 -337.684052  241.977264 -63.475136   6.671293   \n",
      "1            0.098724 -541.731567  190.250259 -62.079308  31.943897   \n",
      "2            0.069794 -363.949829  175.475540 -54.723301  42.113976   \n",
      "3            0.089421 -358.664642  195.872498 -82.775475  44.400013   \n",
      "4            0.094283 -514.700256  193.631592 -67.287422  39.808144   \n",
      "\n",
      "       mfcc5  ...     mfcc12     mfcc13    mfcc14     mfcc15     mfcc16  \\\n",
      "0   0.439099  ... -17.724743  17.310492 -6.202421 -14.736652   7.043139   \n",
      "1  30.885632  ... -23.163731   1.422576 -6.538443  -6.601796   5.911836   \n",
      "2  35.235542  ... -25.579355   6.488173 -7.776421  -9.661230  12.917862   \n",
      "3  40.264603  ... -24.311731   9.055631 -7.327782  -7.607855  15.071859   \n",
      "4  40.864193  ... -27.024630  10.196466 -6.835127 -10.169741  12.205356   \n",
      "\n",
      "      mfcc17     mfcc18     mfcc19     mfcc20  number  \n",
      "0 -12.597274 -11.026522   6.386655  -6.860338       1  \n",
      "1 -16.780254 -10.702021   5.963660 -16.946566       2  \n",
      "2  -7.104449  -6.734056   9.629294  -6.554499       1  \n",
      "3  -7.940886  -4.496965  12.943058  -9.031057       1  \n",
      "4  -7.135085  -4.547247   6.463083 -17.603455       2  \n",
      "\n",
      "[5 rows x 26 columns]\n",
      "more_train.csv will be preprocessed\n",
      "Preprocessing is finished\n",
      "       rmse  spectral_centroid  spectral_bandwidth      rolloff  \\\n",
      "0  0.039759        1358.208628         1890.243941  2540.917969   \n",
      "1  0.111568        1324.289058         1810.185473  2632.848182   \n",
      "2  0.165780        1042.919916          851.096880  1658.470741   \n",
      "3  0.264639        1731.190893         1685.250334  3415.063477   \n",
      "4  0.123711        2404.615251         2039.727512  4623.896484   \n",
      "\n",
      "   zero_crossing_rate       mfcc1       mfcc2      mfcc3      mfcc4  \\\n",
      "0            0.093363 -349.631744  135.204880  19.397516  12.044560   \n",
      "1            0.071946 -279.995636  129.486908 -14.821362  15.748676   \n",
      "2            0.063570 -208.076141  202.338455 -71.798546  -8.246889   \n",
      "3            0.100656  -78.239990  146.005402 -54.577213  26.456570   \n",
      "4            0.236491 -173.569305  106.344086 -42.850857  38.611404   \n",
      "\n",
      "       mfcc5  ...     mfcc12     mfcc13     mfcc14     mfcc15     mfcc16  \\\n",
      "0  -8.521679  ... -12.872719  -3.118358  -4.095297  -8.339793  -4.422190   \n",
      "1  -0.610324  ...  -6.516089  -6.503754 -15.070614  -6.551409 -17.249092   \n",
      "2  10.156475  ... -23.695770 -15.617097 -18.535030 -18.525862 -19.764578   \n",
      "3 -50.914959  ... -14.477855   5.621634 -22.270334  -0.615996 -15.020494   \n",
      "4 -40.377056  ... -11.905856  -5.818257 -14.968607   7.371072 -12.015318   \n",
      "\n",
      "      mfcc17     mfcc18     mfcc19    mfcc20  number  \n",
      "0  -2.988979  -0.864654  -4.008632  3.243911       3  \n",
      "1  -6.539564  -9.504227 -17.289343 -1.486652       3  \n",
      "2 -10.160658  -6.533715 -15.392685 -8.234720       5  \n",
      "3  -7.572793  -5.281518  -7.928069 -5.011065       3  \n",
      "4   0.917402 -10.410573  -3.647233 -6.184270       3  \n",
      "\n",
      "[5 rows x 26 columns]\n",
      "more_test.csv will be preprocessed\n",
      "Preprocessing is finished\n",
      "       rmse  spectral_centroid  spectral_bandwidth      rolloff  \\\n",
      "0  0.263349        1541.173551         1152.265367  2831.616211   \n",
      "1  0.178100         986.240750         1243.094994  2207.479581   \n",
      "2  0.041251        2929.496732         2080.026160  5167.032524   \n",
      "3  0.102912        1270.788895         1624.572386  2442.362154   \n",
      "4  0.136567        1315.178499          936.716966  2287.488732   \n",
      "\n",
      "   zero_crossing_rate       mfcc1       mfcc2       mfcc3      mfcc4  \\\n",
      "0            0.086597 -215.661163  118.347473  -48.183334  38.231396   \n",
      "1            0.045351 -230.533142  171.157135   -5.515657  20.675377   \n",
      "2            0.286377 -251.080276   74.308495  -55.889198   5.210672   \n",
      "3            0.055965 -264.190643  154.578873   -9.901300   1.276820   \n",
      "4            0.095928 -221.179764  207.765518 -101.873688  -4.831926   \n",
      "\n",
      "       mfcc5  ...     mfcc12     mfcc13     mfcc14     mfcc15     mfcc16  \\\n",
      "0  27.467520  ... -33.062054  -0.846370  -3.631630 -26.171604  -9.593837   \n",
      "1  -3.108402  ... -14.097898  -9.547957  -9.970568 -15.526528 -17.028362   \n",
      "2 -35.621170  ... -10.704279 -12.715860 -12.099867   4.883610  -9.821168   \n",
      "3  -4.987144  ...  -9.880265  -0.010168 -10.896443  -5.682155  -0.433506   \n",
      "4  11.173066  ...  -8.228568  -0.612461 -20.285858 -20.111671  -8.237079   \n",
      "\n",
      "      mfcc17     mfcc18     mfcc19    mfcc20  number  \n",
      "0   5.851287 -12.899953  -5.184548  9.597952       5  \n",
      "1 -13.014734  -9.094009   1.289093 -5.188508       4  \n",
      "2   6.861465 -12.795645  -1.174567 -1.963437       3  \n",
      "3   6.786911 -10.947194 -11.484864 -0.297754       3  \n",
      "4 -14.570082 -13.305305  -2.755551 -2.138981       5  \n",
      "\n",
      "[5 rows x 26 columns]\n"
     ]
    }
   ],
   "source": [
    "#Reading a dataset and convert file name to corresbonding umnber\n",
    "\n",
    "import pandas as pd\n",
    "import csv\n",
    "from sklearn import preprocessing\n",
    "\n",
    "def preProcessData(csvFileName):\n",
    "    print(csvFileName+ \" will be preprocessed\")\n",
    "    data = pd.read_csv(csvFileName)\n",
    "    # we have six speakers: \n",
    "    # 0: Jackson\n",
    "    # 1: Nicolas \n",
    "    # 2: Theo\n",
    "    # 3: Ankur\n",
    "    # 4: Caroline\n",
    "    # 5: Rodolfo\n",
    "    filenameArray = data['filename'] \n",
    "    speakerArray = []\n",
    "    #print(filenameArray)\n",
    "    for i in range(len(filenameArray)):\n",
    "        speaker = filenameArray[i][2]\n",
    "        #print(speaker)\n",
    "        if speaker == \"j\":\n",
    "            speaker = \"0\"\n",
    "        elif speaker == \"n\":\n",
    "            speaker = \"1\"\n",
    "        elif speaker == \"t\":\n",
    "            speaker = \"2\"\n",
    "        elif speaker == \"a\":\n",
    "            speaker = \"3\"\n",
    "        elif speaker == \"c\":\n",
    "            speaker = \"4\"\n",
    "        elif speaker == \"r\":\n",
    "            speaker = \"5\"\n",
    "        else: \n",
    "            speaker = \"6\"\n",
    "        #print(speaker)\n",
    "        speakerArray.append(speaker)\n",
    "    data['number'] = speakerArray\n",
    "    #Dropping unnecessary columns\n",
    "    data = data.drop(['filename'],axis=1)\n",
    "    data = data.drop(['label'],axis=1)\n",
    "    data = data.drop(['chroma_stft'],axis=1)\n",
    "    data.shape\n",
    "\n",
    "    print(\"Preprocessing is finished\")\n",
    "    print(data.head())\n",
    "    return data\n",
    "\n",
    "trainData = preProcessData(TRAIN_CSV_FILE)\n",
    "testData = preProcessData(TEST_CSV_FILE)\n",
    "moreTrainData = preProcessData(MORE_TRAIN_CSV_FILE)\n",
    "moreTestData = preProcessData(MORE_TEST_CSV_FILE)\n",
    "\n"
   ]
  },
  {
   "cell_type": "code",
   "execution_count": 7,
   "metadata": {},
   "outputs": [],
   "source": [
    "trainData[\"number\"] = trainData[\"number\"].astype(str).astype(int)\n",
    "testData[\"number\"] = testData[\"number\"].astype(str).astype(int)\n",
    "moreTrainData[\"number\"] = moreTrainData[\"number\"].astype(str).astype(int)\n",
    "moreTestData[\"number\"] = moreTestData[\"number\"].astype(str).astype(int)"
   ]
  },
  {
   "cell_type": "code",
   "execution_count": 8,
   "metadata": {},
   "outputs": [
    {
     "name": "stdout",
     "output_type": "stream",
     "text": [
      "Y from training data: (1029,)\n",
      "Y from validation data: (441,)\n",
      "Y from test data: (30,)\n"
     ]
    }
   ],
   "source": [
    "# Splitting the dataset into training, validation and testing dataset\n",
    "from sklearn.model_selection import train_test_split\n",
    "X = np.array(trainData.iloc[:, :-1], dtype = float)\n",
    "y = trainData.iloc[:, -1]\n",
    "X_train, X_val, y_train, y_val = train_test_split(X, y, test_size=0.3, random_state=42)\n",
    "\n",
    "\n",
    "X_test = np.array(testData.iloc[:, :-1], dtype = float)\n",
    "y_test = testData.iloc[:, -1]\n",
    "\n",
    "print(\"Y from training data:\", y_train.shape)\n",
    "print(\"Y from validation data:\", y_val.shape)\n",
    "print(\"Y from test data:\", y_test.shape)"
   ]
  },
  {
   "cell_type": "code",
   "execution_count": 9,
   "metadata": {},
   "outputs": [
    {
     "name": "stdout",
     "output_type": "stream",
     "text": [
      "X from training data (1029, 25)\n",
      "X from validation data (441, 25)\n",
      "X from test data (30, 25)\n"
     ]
    }
   ],
   "source": [
    "#Normalizing the dataset\n",
    "from sklearn.preprocessing import StandardScaler\n",
    "import numpy as np\n",
    "scaler = StandardScaler()\n",
    "X_train = scaler.fit_transform( X_train )\n",
    "X_val = scaler.transform( X_val )\n",
    "X_test = scaler.transform( X_test )\n",
    "\n",
    "print(\"X from training data\", X_train.shape)\n",
    "print(\"X from validation data\", X_val.shape)\n",
    "print(\"X from test data\", X_test.shape)"
   ]
  },
  {
   "cell_type": "code",
   "execution_count": 10,
   "metadata": {},
   "outputs": [
    {
     "name": "stdout",
     "output_type": "stream",
     "text": [
      "Epoch 1/50\n",
      "9/9 [==============================] - 0s 31ms/step - loss: 2.1916 - accuracy: 0.2449 - val_loss: 1.5375 - val_accuracy: 0.8503\n",
      "Epoch 2/50\n",
      "9/9 [==============================] - 0s 9ms/step - loss: 1.4509 - accuracy: 0.5841 - val_loss: 0.8504 - val_accuracy: 0.9206\n",
      "Epoch 3/50\n",
      "9/9 [==============================] - 0s 9ms/step - loss: 0.9897 - accuracy: 0.6832 - val_loss: 0.4288 - val_accuracy: 0.9274\n",
      "Epoch 4/50\n",
      "9/9 [==============================] - 0s 10ms/step - loss: 0.6390 - accuracy: 0.7872 - val_loss: 0.1986 - val_accuracy: 0.9683\n",
      "Epoch 5/50\n",
      "9/9 [==============================] - 0s 8ms/step - loss: 0.4676 - accuracy: 0.8513 - val_loss: 0.1127 - val_accuracy: 0.9751\n",
      "Epoch 6/50\n",
      "9/9 [==============================] - 0s 11ms/step - loss: 0.3176 - accuracy: 0.8931 - val_loss: 0.0870 - val_accuracy: 0.9796\n",
      "Epoch 7/50\n",
      "9/9 [==============================] - 0s 9ms/step - loss: 0.2312 - accuracy: 0.9378 - val_loss: 0.0739 - val_accuracy: 0.9819\n",
      "Epoch 8/50\n",
      "9/9 [==============================] - 0s 9ms/step - loss: 0.1904 - accuracy: 0.9495 - val_loss: 0.0625 - val_accuracy: 0.9841\n",
      "Epoch 9/50\n",
      "9/9 [==============================] - 0s 7ms/step - loss: 0.1598 - accuracy: 0.9504 - val_loss: 0.0577 - val_accuracy: 0.9841\n",
      "Epoch 10/50\n",
      "9/9 [==============================] - 0s 10ms/step - loss: 0.1686 - accuracy: 0.9563 - val_loss: 0.0511 - val_accuracy: 0.9841\n",
      "Epoch 11/50\n",
      "9/9 [==============================] - 0s 8ms/step - loss: 0.1269 - accuracy: 0.9602 - val_loss: 0.0524 - val_accuracy: 0.9819\n",
      "Epoch 00011: early stopping\n"
     ]
    }
   ],
   "source": [
    "#Creating a Model\n",
    "from keras import models\n",
    "from keras import layers\n",
    "import keras\n",
    "\n",
    "# model 1\n",
    "model = models.Sequential()\n",
    "model.add(layers.Dense(256, activation='relu', input_shape=(X_train.shape[1],)))\n",
    "model.add(layers.Dropout(0.5))\n",
    "model.add(layers.Dense(128, activation='relu'))\n",
    "model.add(layers.Dropout(0.5))\n",
    "model.add(layers.Dense(64, activation='relu'))\n",
    "model.add(layers.Dropout(0.5))\n",
    "model.add(layers.Dense(10, activation='softmax'))\n",
    "\n",
    "# Learning Process of a model\n",
    "model.compile(optimizer='adam',\n",
    "              loss='sparse_categorical_crossentropy',\n",
    "              metrics=['accuracy'])\n",
    "\n",
    "# simple early stopping\n",
    "from keras.callbacks import EarlyStopping\n",
    "\n",
    "es = EarlyStopping(monitor='val_loss', mode='min', verbose=1)\n",
    "\n",
    "#Train with early stopping to avoid overfitting\n",
    "history = model.fit(X_train,\n",
    "                    y_train,\n",
    "                    validation_data=(X_val, y_val),\n",
    "                    epochs=50,\n",
    "                    batch_size=128, \n",
    "                    callbacks=[es])"
   ]
  },
  {
   "cell_type": "code",
   "execution_count": 11,
   "metadata": {},
   "outputs": [
    {
     "data": {
      "image/png": "[encoded data removed]",
      "text/plain": [
       "<Figure size 432x288 with 1 Axes>"
      ]
     },
     "metadata": {
      "needs_background": "light"
     },
     "output_type": "display_data"
    }
   ],
   "source": [
    "# plot training history\n",
    "from matplotlib import pyplot\n",
    "pyplot.plot(history.history['loss'], label='train')\n",
    "pyplot.plot(history.history['val_loss'], label='test')\n",
    "pyplot.legend()\n",
    "pyplot.show()"
   ]
  },
  {
   "cell_type": "code",
   "execution_count": 12,
   "metadata": {},
   "outputs": [],
   "source": [
    "def getSpeaker(speaker):\n",
    "    speaker = str(speaker)\n",
    "    if speaker == \"0\":\n",
    "        return \"Jackson\"\n",
    "    elif speaker == \"1\":\n",
    "        return \"Nicola\"\n",
    "    elif speaker == \"2\":\n",
    "        return \"Theo\"\n",
    "    elif speaker == \"3\":\n",
    "        return \"Ankur\"\n",
    "    elif speaker == \"4\":\n",
    "        return \"Caroline\"\n",
    "    elif speaker == \"5\":\n",
    "        return \"Rodolfo\"\n",
    "    else: \n",
    "        speaker = \"Unknown\"\n",
    "        \n",
    "def printPrediction(X_data, y_data, printDigit):\n",
    "    print('\\n# Generate predictions')\n",
    "    for i in range(len(y_data)):\n",
    "        prediction = getSpeaker(model.predict_classes(X_data[i:i+1])[0])\n",
    "        speaker = getSpeaker(y_data[i])\n",
    "        if printDigit == True:\n",
    "            print(\"Number={0:d}, y={1:10s}- prediction={2:10s}- match={3}\".format(i, speaker, prediction, speaker==prediction))\n",
    "        else:\n",
    "            print(\"y={0:10s}- prediction={1:10s}- match={2}\".format(speaker, prediction, speaker==prediction))"
   ]
  },
  {
   "cell_type": "code",
   "execution_count": 13,
   "metadata": {},
   "outputs": [],
   "source": [
    "import numpy as np\n",
    "from keras import backend as K\n",
    "from keras.models import Sequential\n",
    "from keras.layers.core import Dense, Dropout, Activation, Flatten\n",
    "from keras.layers.convolutional import Convolution2D, MaxPooling2D\n",
    "from keras.preprocessing.image import ImageDataGenerator\n",
    "from sklearn.metrics import classification_report, confusion_matrix\n",
    "\n",
    "def report(X_data, y_data):\n",
    "    #Confution Matrix and Classification Report\n",
    "    Y_pred = model.predict_classes(X_data)\n",
    "    y_test_num = y_data.astype(np.int64)\n",
    "    conf_mt = confusion_matrix(y_test_num, Y_pred)\n",
    "    print(conf_mt)\n",
    "    plt.matshow(conf_mt)\n",
    "    plt.show()\n",
    "    print('\\nClassification Report')\n",
    "    target_names = [\"Jackson\", \"Nicola\", \"Theo\", \"Ankur\", \"Caroline\", \"Rodolfo\", \"Unknown\"]\n",
    "    print(classification_report(y_test_num, Y_pred))\n",
    "\n"
   ]
  },
  {
   "cell_type": "code",
   "execution_count": 14,
   "metadata": {},
   "outputs": [
    {
     "name": "stdout",
     "output_type": "stream",
     "text": [
      "\n",
      "# TEST DATA #\n",
      "\n",
      "1/1 [==============================] - 0s 1ms/step - loss: 0.0219 - accuracy: 1.0000\n",
      "accuracy: 100.00%\n",
      "\n",
      "# Generate predictions\n",
      "WARNING:tensorflow:From <ipython-input-12-14ca19a94cad>:21: Sequential.predict_classes (from tensorflow.python.keras.engine.sequential) is deprecated and will be removed after 2021-01-01.\n",
      "Instructions for updating:\n",
      "Please use instead:* `np.argmax(model.predict(x), axis=-1)`,   if your model does multi-class classification   (e.g. if it uses a `softmax` last-layer activation).* `(model.predict(x) > 0.5).astype(\"int32\")`,   if your model does binary classification   (e.g. if it uses a `sigmoid` last-layer activation).\n",
      "y=Nicola    - prediction=Nicola    - match=True\n",
      "y=Theo      - prediction=Theo      - match=True\n",
      "y=Nicola    - prediction=Nicola    - match=True\n",
      "y=Nicola    - prediction=Nicola    - match=True\n",
      "y=Theo      - prediction=Theo      - match=True\n",
      "y=Nicola    - prediction=Nicola    - match=True\n",
      "y=Nicola    - prediction=Nicola    - match=True\n",
      "y=Theo      - prediction=Theo      - match=True\n",
      "y=Nicola    - prediction=Nicola    - match=True\n",
      "y=Theo      - prediction=Theo      - match=True\n"
     ]
    }
   ],
   "source": [
    "print('\\n# TEST DATA #\\n')\n",
    "score = model.evaluate(X_test, y_test)\n",
    "print(\"%s: %.2f%%\" % (model.metrics_names[1], score[1]*100))\n",
    "\n",
    "# Prediction\n",
    "printPrediction(X_test[0:10], y_test[0:10], False)"
   ]
  },
  {
   "cell_type": "code",
   "execution_count": 15,
   "metadata": {},
   "outputs": [
    {
     "name": "stdout",
     "output_type": "stream",
     "text": [
      "Classification Report for Test Data\n",
      "\n",
      "[[10  0  0]\n",
      " [ 0 10  0]\n",
      " [ 0  0 10]]\n"
     ]
    },
    {
     "data": {
      "image/png": "[encoded data removed]",
      "text/plain": [
       "<Figure size 288x288 with 1 Axes>"
      ]
     },
     "metadata": {
      "needs_background": "light"
     },
     "output_type": "display_data"
    },
    {
     "name": "stdout",
     "output_type": "stream",
     "text": [
      "\n",
      "Classification Report\n",
      "              precision    recall  f1-score   support\n",
      "\n",
      "           0       1.00      1.00      1.00        10\n",
      "           1       1.00      1.00      1.00        10\n",
      "           2       1.00      1.00      1.00        10\n",
      "\n",
      "    accuracy                           1.00        30\n",
      "   macro avg       1.00      1.00      1.00        30\n",
      "weighted avg       1.00      1.00      1.00        30\n",
      "\n"
     ]
    }
   ],
   "source": [
    "print(\"Classification Report for Test Data\\n\")\n",
    "report(X_test, y_test)"
   ]
  },
  {
   "cell_type": "code",
   "execution_count": null,
   "metadata": {},
   "outputs": [],
   "source": []
  },
  {
   "cell_type": "code",
   "execution_count": 16,
   "metadata": {},
   "outputs": [
    {
     "name": "stdout",
     "output_type": "stream",
     "text": [
      "Y from training data: (1050,)\n",
      "Y from validation data: (450,)\n",
      "Y from test data: (30,)\n",
      "Y from other speakers test data: (30,)\n"
     ]
    }
   ],
   "source": [
    "# Splitting the dataset into training, validation and testing dataset\n",
    "from sklearn.model_selection import train_test_split\n",
    "\n",
    "fullTrainData = trainData.append(moreTrainData)\n",
    "\n",
    "X = np.array(fullTrainData.iloc[:, :-1], dtype = float)\n",
    "y = fullTrainData.iloc[:, -1]\n",
    "X_train, X_val, y_train, y_val = train_test_split(X, y, test_size=0.3, random_state=42)\n",
    "\n",
    "X_test = np.array(testData.iloc[:, :-1], dtype = float)\n",
    "y_test = testData.iloc[:, -1]\n",
    "\n",
    "X_more_test = np.array(moreTestData.iloc[:, :-1], dtype = float)\n",
    "y_more_test = moreTestData.iloc[:, -1]\n",
    "\n",
    "print(\"Y from training data:\", y_train.shape)\n",
    "print(\"Y from validation data:\", y_val.shape)\n",
    "print(\"Y from test data:\", y_test.shape)\n",
    "print(\"Y from other speakers test data:\", y_more_test.shape)"
   ]
  },
  {
   "cell_type": "code",
   "execution_count": 17,
   "metadata": {},
   "outputs": [
    {
     "name": "stdout",
     "output_type": "stream",
     "text": [
      "X from training data (1050, 25)\n",
      "X from validation data (450, 25)\n",
      "X from test data (30, 25)\n",
      "X from other speakers test data (30, 25)\n"
     ]
    }
   ],
   "source": [
    "#Normalizing the dataset\n",
    "from sklearn.preprocessing import StandardScaler\n",
    "import numpy as np\n",
    "scaler = StandardScaler()\n",
    "X_train = scaler.fit_transform( X_train )\n",
    "X_val = scaler.transform( X_val )\n",
    "X_test = scaler.transform( X_test )\n",
    "X_more_test = scaler.transform( X_more_test )\n",
    "\n",
    "print(\"X from training data\", X_train.shape)\n",
    "print(\"X from validation data\", X_val.shape)\n",
    "print(\"X from test data\", X_test.shape)\n",
    "print(\"X from other speakers test data\", X_more_test.shape)\n",
    "\n"
   ]
  },
  {
   "cell_type": "code",
   "execution_count": 18,
   "metadata": {},
   "outputs": [
    {
     "name": "stdout",
     "output_type": "stream",
     "text": [
      "Epoch 1/50\n",
      "9/9 [==============================] - 0s 16ms/step - loss: 2.0465 - accuracy: 0.2743 - val_loss: 1.5115 - val_accuracy: 0.7844\n",
      "Epoch 2/50\n",
      "9/9 [==============================] - 0s 11ms/step - loss: 1.3890 - accuracy: 0.5829 - val_loss: 0.8863 - val_accuracy: 0.8822\n",
      "Epoch 3/50\n",
      "9/9 [==============================] - 0s 9ms/step - loss: 0.9502 - accuracy: 0.7181 - val_loss: 0.5068 - val_accuracy: 0.9311\n",
      "Epoch 4/50\n",
      "9/9 [==============================] - 0s 11ms/step - loss: 0.6415 - accuracy: 0.8210 - val_loss: 0.3436 - val_accuracy: 0.9533\n",
      "Epoch 5/50\n",
      "9/9 [==============================] - 0s 9ms/step - loss: 0.4799 - accuracy: 0.8562 - val_loss: 0.2634 - val_accuracy: 0.9578\n",
      "Epoch 6/50\n",
      "9/9 [==============================] - 0s 10ms/step - loss: 0.3321 - accuracy: 0.9219 - val_loss: 0.2286 - val_accuracy: 0.9578\n",
      "Epoch 7/50\n",
      "9/9 [==============================] - 0s 7ms/step - loss: 0.2938 - accuracy: 0.9276 - val_loss: 0.1959 - val_accuracy: 0.9622\n",
      "Epoch 8/50\n",
      "9/9 [==============================] - 0s 9ms/step - loss: 0.2214 - accuracy: 0.9419 - val_loss: 0.1727 - val_accuracy: 0.9622\n",
      "Epoch 9/50\n",
      "9/9 [==============================] - 0s 8ms/step - loss: 0.1878 - accuracy: 0.9571 - val_loss: 0.1562 - val_accuracy: 0.9622\n",
      "Epoch 10/50\n",
      "9/9 [==============================] - 0s 14ms/step - loss: 0.1869 - accuracy: 0.9514 - val_loss: 0.1399 - val_accuracy: 0.9644\n",
      "Epoch 11/50\n",
      "9/9 [==============================] - 0s 14ms/step - loss: 0.1700 - accuracy: 0.9524 - val_loss: 0.1347 - val_accuracy: 0.9667\n",
      "Epoch 12/50\n",
      "9/9 [==============================] - 0s 12ms/step - loss: 0.1569 - accuracy: 0.9600 - val_loss: 0.1204 - val_accuracy: 0.9689\n",
      "Epoch 13/50\n",
      "9/9 [==============================] - 0s 8ms/step - loss: 0.1285 - accuracy: 0.9600 - val_loss: 0.1114 - val_accuracy: 0.9689\n",
      "Epoch 14/50\n",
      "9/9 [==============================] - 0s 12ms/step - loss: 0.1272 - accuracy: 0.9676 - val_loss: 0.1097 - val_accuracy: 0.9711\n",
      "Epoch 15/50\n",
      "9/9 [==============================] - 0s 11ms/step - loss: 0.1245 - accuracy: 0.9676 - val_loss: 0.0952 - val_accuracy: 0.9733\n",
      "Epoch 16/50\n",
      "9/9 [==============================] - 0s 13ms/step - loss: 0.1044 - accuracy: 0.9676 - val_loss: 0.0898 - val_accuracy: 0.9756\n",
      "Epoch 17/50\n",
      "9/9 [==============================] - 0s 14ms/step - loss: 0.0987 - accuracy: 0.9733 - val_loss: 0.0794 - val_accuracy: 0.9778\n",
      "Epoch 18/50\n",
      "9/9 [==============================] - 0s 18ms/step - loss: 0.0924 - accuracy: 0.9733 - val_loss: 0.0716 - val_accuracy: 0.9800\n",
      "Epoch 19/50\n",
      "9/9 [==============================] - 0s 6ms/step - loss: 0.0849 - accuracy: 0.9819 - val_loss: 0.0623 - val_accuracy: 0.9822\n",
      "Epoch 20/50\n",
      "9/9 [==============================] - 0s 7ms/step - loss: 0.0796 - accuracy: 0.9790 - val_loss: 0.0596 - val_accuracy: 0.9822\n",
      "Epoch 21/50\n",
      "9/9 [==============================] - 0s 7ms/step - loss: 0.0802 - accuracy: 0.9800 - val_loss: 0.0598 - val_accuracy: 0.9822\n",
      "Epoch 00021: early stopping\n"
     ]
    }
   ],
   "source": [
    "#Creating a Model\n",
    "from keras import models\n",
    "from keras import layers\n",
    "import keras\n",
    "\n",
    "# model 1\n",
    "model = models.Sequential()\n",
    "model.add(layers.Dense(256, activation='relu', input_shape=(X_train.shape[1],)))\n",
    "model.add(layers.Dropout(0.5))\n",
    "model.add(layers.Dense(128, activation='relu'))\n",
    "model.add(layers.Dropout(0.5))\n",
    "model.add(layers.Dense(64, activation='relu'))\n",
    "model.add(layers.Dropout(0.5))\n",
    "model.add(layers.Dense(10, activation='softmax'))\n",
    "\n",
    "# Learning Process of a model\n",
    "model.compile(optimizer='adam',\n",
    "              loss='sparse_categorical_crossentropy',\n",
    "              metrics=['accuracy'])\n",
    "\n",
    "# simple early stopping\n",
    "from keras.callbacks import EarlyStopping\n",
    "\n",
    "es = EarlyStopping(monitor='val_loss', mode='min', verbose=1)\n",
    "\n",
    "#Train with early stopping to avoid overfitting\n",
    "X_train = np.asarray(X_train).astype(np.float32)\n",
    "y_train = np.asarray( y_train).astype(np.float32)\n",
    "\n",
    "history = model.fit(X_train,\n",
    "                    y_train,\n",
    "                    validation_data=(X_val, y_val),\n",
    "                    epochs=50,\n",
    "                    batch_size=128, \n",
    "                    callbacks=[es])"
   ]
  },
  {
   "cell_type": "code",
   "execution_count": 19,
   "metadata": {},
   "outputs": [
    {
     "data": {
      "image/png": "[encoded data removed]",
      "text/plain": [
       "<Figure size 432x288 with 1 Axes>"
      ]
     },
     "metadata": {
      "needs_background": "light"
     },
     "output_type": "display_data"
    }
   ],
   "source": [
    "# plot training history\n",
    "from matplotlib import pyplot\n",
    "pyplot.plot(history.history['loss'], label='train')\n",
    "pyplot.plot(history.history['val_loss'], label='test')\n",
    "pyplot.legend()\n",
    "pyplot.show()"
   ]
  },
  {
   "cell_type": "code",
   "execution_count": 20,
   "metadata": {},
   "outputs": [
    {
     "name": "stdout",
     "output_type": "stream",
     "text": [
      "\n",
      "# TEST DATA #\n",
      "\n",
      "1/1 [==============================] - 0s 5ms/step - loss: 0.0012 - accuracy: 1.0000\n",
      "accuracy: 100.00%\n",
      "\n",
      "# Generate predictions\n",
      "y=Nicola    - prediction=Nicola    - match=True\n",
      "y=Theo      - prediction=Theo      - match=True\n",
      "y=Nicola    - prediction=Nicola    - match=True\n",
      "y=Nicola    - prediction=Nicola    - match=True\n",
      "y=Theo      - prediction=Theo      - match=True\n",
      "y=Nicola    - prediction=Nicola    - match=True\n",
      "y=Nicola    - prediction=Nicola    - match=True\n",
      "y=Theo      - prediction=Theo      - match=True\n",
      "y=Nicola    - prediction=Nicola    - match=True\n",
      "y=Theo      - prediction=Theo      - match=True\n"
     ]
    }
   ],
   "source": [
    "print('\\n# TEST DATA #\\n')\n",
    "score = model.evaluate(X_test, y_test)\n",
    "print(\"%s: %.2f%%\" % (model.metrics_names[1], score[1]*100))\n",
    "\n",
    "# Prediction\n",
    "printPrediction(X_test[0:10], y_test[0:10], False)"
   ]
  },
  {
   "cell_type": "code",
   "execution_count": 21,
   "metadata": {},
   "outputs": [
    {
     "name": "stdout",
     "output_type": "stream",
     "text": [
      "\n",
      "# OTHER SPEAKERS DATA #\n",
      "\n",
      "1/1 [==============================] - 0s 877us/step - loss: 1.7691 - accuracy: 0.4667\n",
      "accuracy: 46.67%\n",
      "\n",
      "# Generate predictions\n",
      "y=Rodolfo   - prediction=Nicola    - match=False\n",
      "y=Caroline  - prediction=Jackson   - match=False\n",
      "y=Ankur     - prediction=Ankur     - match=True\n",
      "y=Ankur     - prediction=Ankur     - match=True\n",
      "y=Rodolfo   - prediction=Rodolfo   - match=True\n",
      "y=Rodolfo   - prediction=Jackson   - match=False\n",
      "y=Caroline  - prediction=Caroline  - match=True\n",
      "y=Ankur     - prediction=Ankur     - match=True\n",
      "y=Ankur     - prediction=Ankur     - match=True\n",
      "y=Caroline  - prediction=Ankur     - match=False\n"
     ]
    }
   ],
   "source": [
    "print('\\n# OTHER SPEAKERS DATA #\\n')\n",
    "score = model.evaluate(X_more_test, y_more_test)\n",
    "print(\"%s: %.2f%%\" % (model.metrics_names[1], score[1]*100))\n",
    "\n",
    "# Prediction\n",
    "printPrediction(X_more_test[0:10], y_more_test[0:10], False)"
   ]
  },
  {
   "cell_type": "code",
   "execution_count": 22,
   "metadata": {},
   "outputs": [
    {
     "name": "stdout",
     "output_type": "stream",
     "text": [
      "Classification Report for Test Data\n",
      "\n",
      "[[10  0  0]\n",
      " [ 0 10  0]\n",
      " [ 0  0 10]]\n"
     ]
    },
    {
     "data": {
      "image/png": "[encoded data removed]",
      "text/plain": [
       "<Figure size 288x288 with 1 Axes>"
      ]
     },
     "metadata": {
      "needs_background": "light"
     },
     "output_type": "display_data"
    },
    {
     "name": "stdout",
     "output_type": "stream",
     "text": [
      "\n",
      "Classification Report\n",
      "              precision    recall  f1-score   support\n",
      "\n",
      "           0       1.00      1.00      1.00        10\n",
      "           1       1.00      1.00      1.00        10\n",
      "           2       1.00      1.00      1.00        10\n",
      "\n",
      "    accuracy                           1.00        30\n",
      "   macro avg       1.00      1.00      1.00        30\n",
      "weighted avg       1.00      1.00      1.00        30\n",
      "\n",
      "Classification Report for Other Speakers\n",
      "\n",
      "[[ 0  0  0  0  0]\n",
      " [ 0  0  0  0  0]\n",
      " [ 0  0 10  0  0]\n",
      " [ 5  0  3  2  0]\n",
      " [ 4  1  3  0  2]]\n"
     ]
    },
    {
     "data": {
      "image/png": "[encoded data removed]",
      "text/plain": [
       "<Figure size 288x288 with 1 Axes>"
      ]
     },
     "metadata": {
      "needs_background": "light"
     },
     "output_type": "display_data"
    },
    {
     "name": "stdout",
     "output_type": "stream",
     "text": [
      "\n",
      "Classification Report\n",
      "              precision    recall  f1-score   support\n",
      "\n",
      "           0       0.00      0.00      0.00         0\n",
      "           1       0.00      0.00      0.00         0\n",
      "           3       0.62      1.00      0.77        10\n",
      "           4       1.00      0.20      0.33        10\n",
      "           5       1.00      0.20      0.33        10\n",
      "\n",
      "    accuracy                           0.47        30\n",
      "   macro avg       0.53      0.28      0.29        30\n",
      "weighted avg       0.88      0.47      0.48        30\n",
      "\n"
     ]
    },
    {
     "name": "stderr",
     "output_type": "stream",
     "text": [
      "/Users/nbhadra/anaconda3/lib/python3.7/site-packages/sklearn/metrics/_classification.py:1221: UndefinedMetricWarning: Recall and F-score are ill-defined and being set to 0.0 in labels with no true samples. Use `zero_division` parameter to control this behavior.\n",
      "  _warn_prf(average, modifier, msg_start, len(result))\n"
     ]
    }
   ],
   "source": [
    "print(\"Classification Report for Test Data\\n\")\n",
    "report(X_test, y_test)\n",
    "\n",
    "print(\"Classification Report for Other Speakers\\n\")\n",
    "report(X_more_test, y_more_test)"
   ]
  },
  {
   "cell_type": "code",
   "execution_count": null,
   "metadata": {},
   "outputs": [],
   "source": []
  }
 ],
 "metadata": {
  "kernelspec": {
   "display_name": "Python 3",
   "language": "python",
   "name": "python3"
  },
  "language_info": {
   "codemirror_mode": {
    "name": "ipython",
    "version": 3
   },
   "file_extension": ".py",
   "mimetype": "text/x-python",
   "name": "python",
   "nbconvert_exporter": "python",
   "pygments_lexer": "ipython3",
   "version": "3.7.6"
  }
 },
 "nbformat": 4,
 "nbformat_minor": 4
}
